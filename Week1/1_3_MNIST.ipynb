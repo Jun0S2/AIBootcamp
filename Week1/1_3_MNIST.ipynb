{
  "nbformat": 4,
  "nbformat_minor": 0,
  "metadata": {
    "colab": {
      "provenance": [],
      "gpuType": "T4",
      "toc_visible": true,
      "include_colab_link": true
    },
    "kernelspec": {
      "name": "python3",
      "display_name": "Python 3"
    },
    "language_info": {
      "name": "python"
    },
    "accelerator": "GPU"
  },
  "cells": [
    {
      "cell_type": "markdown",
      "metadata": {
        "id": "view-in-github",
        "colab_type": "text"
      },
      "source": [
        "<a href=\"https://colab.research.google.com/github/Jun0S2/AIBootcamp/blob/Week1-Basic/1_3_MNIST.ipynb\" target=\"_parent\"><img src=\"https://colab.research.google.com/assets/colab-badge.svg\" alt=\"Open In Colab\"/></a>"
      ]
    },
    {
      "cell_type": "markdown",
      "source": [
        "# MNIST 실습\n",
        "\n",
        "이번에는 28x28 흑백 손글씨 이미지를 보고 0~9 사이의 숫자 중 어떤 숫자를 쓴 것인지 예측하는 문제를 실습합니다.\n",
        "이번 실습에서는 GPU를 활용할 것이기 때문에, 이전 챕터에서 Colab에서 GPU를 설정하는 방법을 따라해주시길 바랍니다.\n",
        "\n",
        "GPU를 설정했으면 library들을 import합니다."
      ],
      "metadata": {
        "id": "OPJenlrhihrh"
      }
    },
    {
      "cell_type": "markdown",
      "source": [],
      "metadata": {
        "id": "_hefr5DO9-5h"
      }
    },
    {
      "cell_type": "code",
      "execution_count": 37,
      "metadata": {
        "id": "6lXVfXoDtoQh"
      },
      "outputs": [],
      "source": [
        "import torch\n",
        "import torchvision\n",
        "import torchvision.transforms as transforms"
      ]
    },
    {
      "cell_type": "markdown",
      "source": [
        "다음은 dataset을 준비합니다. 손글씨 dataset은 MNIST라는 유명한 dataset이 있습니다. 이 dataset은 `torchvision`에서 제공하고 있으며, 다음과 같이 다운로드 받을 수 있습니다.\n",
        "\n",
        "## [MY CODE] Test Data 준비하기 (1)"
      ],
      "metadata": {
        "id": "pF-1zQvmiult"
      }
    },
    {
      "cell_type": "code",
      "source": [
        "transform = transforms.ToTensor()\n",
        "#  MNIST의 train data를 train=False로 설정\n",
        "trainset = torchvision.datasets.MNIST(\n",
        "    root='./data',\n",
        "    train=False,\n",
        "    download=True,\n",
        "    transform=transform\n",
        ")"
      ],
      "metadata": {
        "id": "KAYlqPaRt6ti",
        "collapsed": true
      },
      "execution_count": 38,
      "outputs": []
    },
    {
      "cell_type": "markdown",
      "source": [
        "MNIST는 손글씨 사진과 어떤 숫자를 의미하는지에 대한 label의 pair들로 구성되어있습니다.\n",
        "이 때, 우리는 PyTorch model을 사용할 것이기 때문에 손글씨 사진들을 모두 tensor로 변환해야합니다.\n",
        "이러한 부가적인 변환들은 `torchvision.transforms`에서 제공하고 있으며, `torchvision.datasets.MNIST`에서 `transform` 인자로 받을 수 있습니다.\n",
        "우리는 단순히 사진을 tensor로 바꾸고 싶기 때문에 `transforms.ToTensor()` transformation을 넘겨줍니다.\n",
        "\n",
        "다음은 전체 data의 개수와 첫 번째 data를 출력한 결과입니다."
      ],
      "metadata": {
        "id": "p-GqH7_ZjVMs"
      }
    },
    {
      "cell_type": "code",
      "source": [
        "from matplotlib import pyplot as plt\n",
        "\n",
        "\n",
        "print(len(trainset))\n",
        "print(trainset[0][0].shape, trainset[0][1])\n",
        "plt.imshow(trainset[0][0][0], cmap='gray')"
      ],
      "metadata": {
        "colab": {
          "base_uri": "https://localhost:8080/",
          "height": 482
        },
        "id": "Zsp3sHmojyhT",
        "outputId": "c3b14d16-f844-4c91-821f-ae8fc0db2b48"
      },
      "execution_count": 39,
      "outputs": [
        {
          "output_type": "stream",
          "name": "stdout",
          "text": [
            "10000\n",
            "torch.Size([1, 28, 28]) 7\n"
          ]
        },
        {
          "output_type": "execute_result",
          "data": {
            "text/plain": [
              "<matplotlib.image.AxesImage at 0x7d84a59da4d0>"
            ]
          },
          "metadata": {},
          "execution_count": 39
        },
        {
          "output_type": "display_data",
          "data": {
            "text/plain": [
              "<Figure size 640x480 with 1 Axes>"
            ],
            "image/png": "[encoded data removed]"
          },
          "metadata": {}
        }
      ]
    },
    {
      "cell_type": "markdown",
      "source": [
        "첫 번째 출력결과를 통해 우리는 6만장의 손글씨 data가 있는 것을 알 수 있습니다.\n",
        "그리고 두 번째 출력결과를 통해 첫 번째 data의 shape은 (1, 28, 28)이고 5라는 숫자를 쓴 사진이라는 것을 알 수 있습니다.\n",
        "마지막으로 `plt.imshow`를 통해 visualize 했을 때 5라는 숫자가 나오는 것을 알 수 있습니다.\n",
        "\n",
        "다음은 SGD를 위해 dataset을 여러 개의 batch로 나누는 과정을 PyTorch로 구현한 모습입니다."
      ],
      "metadata": {
        "id": "udm8wDBsi301"
      }
    },
    {
      "cell_type": "markdown",
      "source": [
        "## [MY CODE] Test Data 준비하기 (2)"
      ],
      "metadata": {
        "id": "qkUKlHUB-h3W"
      }
    },
    {
      "cell_type": "code",
      "source": [
        "batch_size = 64\n",
        "\n",
        "testset = torchvision.datasets.MNIST(\n",
        "    root='./data',\n",
        "    train=False,\n",
        "    download=True,\n",
        "    transform=transform\n",
        ")\n",
        "\n",
        "# testloader 추가 (Dataloader 생성)\n",
        "testloader = torch.utils.data.DataLoader(\n",
        "    testset,\n",
        "    batch_size=batch_size,\n",
        "    shuffle=False      # 테스트 데이터는 섞을 필요가 없음\n",
        ")\n"
      ],
      "metadata": {
        "id": "UxKu3kA2i5WH"
      },
      "execution_count": 40,
      "outputs": []
    },
    {
      "cell_type": "markdown",
      "source": [
        "PyTorch에서는 `DataLoader`가 dataset을 인자로 받아 batch로 나눠줍니다.\n",
        "부가적으로 `batch_size`라는 인자를 통해 batch size를 받고 있으며, `shuffle`이라는 인자를 통해 data들을 섞을지 결정해줍니다.\n",
        "우리는 SGD가 완전 랜덤으로 batch를 구성해야 잘 동작하는 것을 알고 있기 때문에 `shuffle`에 `True`를 넘겨주고 있습니다.\n",
        "\n",
        "다음은 첫 번째 batch를 출력한 모습입니다."
      ],
      "metadata": {
        "id": "z4Qyrm4WlzWt"
      }
    },
    {
      "cell_type": "code",
      "source": [
        "dataiter = iter(trainloader)\n",
        "images, labels = next(dataiter)\n",
        "print(images.shape, labels.shape)"
      ],
      "metadata": {
        "colab": {
          "base_uri": "https://localhost:8080/"
        },
        "id": "_Hd7XxyAvVNz",
        "outputId": "4dcb4f83-8465-4d1c-8fd2-ed1a1bbda3af"
      },
      "execution_count": 41,
      "outputs": [
        {
          "output_type": "stream",
          "name": "stdout",
          "text": [
            "torch.Size([64, 1, 28, 28]) torch.Size([64])\n"
          ]
        }
      ]
    },
    {
      "cell_type": "markdown",
      "source": [
        "`images`는 첫 번째 batch의 image들이고 `labels`는 첫 번째 batch의 label들입니다.\n",
        "위에서 batch size를 64로 설정했기 때문에 총 64개의 image와 label들이 있어야 합니다.\n",
        "실제 shape 출력 결과를 보면 그렇다는 것을 알 수 있습니다.\n",
        "\n",
        "다음은 (n, 1, 28, 28) shape의 image를 입력받아 0~9 사이의 정수 하나를 출력하는 3-layer MLP를 구현합니다."
      ],
      "metadata": {
        "id": "h0ZY5mDimRUK"
      }
    },
    {
      "cell_type": "markdown",
      "source": [
        "## [MY CODE] 모델 및 손실 함수 변경"
      ],
      "metadata": {
        "id": "-CULdIlN-12t"
      }
    },
    {
      "cell_type": "code",
      "source": [
        "from torch import nn\n",
        "\n",
        "\n",
        "class Model(nn.Module):\n",
        "  def __init__(self, input_dim, n_dim):\n",
        "    super().__init__()\n",
        "\n",
        "    self.layer1 = nn.Linear(input_dim, n_dim)\n",
        "    self.layer2 = nn.Linear(n_dim, n_dim)\n",
        "    # Output size = 10 (number of classes)\n",
        "    self.layer3 = nn.Linear(n_dim, 10)\n",
        "\n",
        "    self.act = nn.ReLU()\n",
        "\n",
        "  def forward(self, x):\n",
        "    x = torch.flatten(x, start_dim=1)\n",
        "    x = self.act(self.layer1(x))\n",
        "    x = self.act(self.layer2(x))\n",
        "    # x = self.act(self.layer3(x))\n",
        "    x = self.layer3(x)  # No activation on output layer\n",
        "\n",
        "    return x\n",
        "\n",
        "\n",
        "model = Model(28 * 28 * 1, 1024).to('cuda')"
      ],
      "metadata": {
        "id": "OLOA-ZGTuVVG"
      },
      "execution_count": 42,
      "outputs": []
    },
    {
      "cell_type": "code",
      "source": [],
      "metadata": {
        "id": "OytVELcOBVgK"
      },
      "execution_count": 42,
      "outputs": []
    },
    {
      "cell_type": "markdown",
      "source": [
        "이전의 2-layer MLP와 유사한 형태임을 알 수 있습니다.\n",
        "여기서 특이사항은 `forward`의 첫 번째 줄에 `torch.flatten`을 사용한다는 것입니다.\n",
        "`Linear`는 이전에도 봤다시피 (n, d) 형태의 shape을 입력받습니다.\n",
        "이미지는 (n, 1, 28, 28)이기 때문에 (n, 1 * 28 * 28)로 shape을 변환해야 선형 함수에 입력으로 주어줄 수 있게 됩니다.\n",
        "이 역할을 수행하는 것이 바로 `torch.flatten`입니다.\n",
        "우리는 첫 번째 shape인 n을 보존할 것이기 때문에 flatten할 차원은 `start_dim=1`로 넘겨주게 됩니다.\n",
        "\n",
        "다음은 gradient descent를 수행해줄 optimizer를 구현하는 모습입니다."
      ],
      "metadata": {
        "id": "tag1rNcwmnAr"
      }
    },
    {
      "cell_type": "code",
      "source": [
        "from torch.optim import SGD\n",
        "\n",
        "lr = 0.001\n",
        "model = model.to('cuda')\n",
        "\n",
        "criterion = nn.CrossEntropyLoss()  # Cross-entropy loss\n",
        "optimizer = SGD(model.parameters(), lr=lr)"
      ],
      "metadata": {
        "id": "ypS0TcOlvBhZ"
      },
      "execution_count": 43,
      "outputs": []
    },
    {
      "cell_type": "markdown",
      "source": [
        "이전 코드와 거의 똑같습니다. 다른 점은 `model.to('cuda')` 코드를 통해 우리가 구현한 model을 GPU로 옮긴 것입니다.\n",
        "MNIST 부터는 모델과 data가 커지면서 훨씬 많은 행렬 연산이 이루어지기 때문에 GPU를 활용하는 것이 빠릅니다.\n",
        "\n",
        "다음은 model을 MNIST에 학습하는 코드입니다."
      ],
      "metadata": {
        "id": "5PooeOKMnRfZ"
      }
    },
    {
      "cell_type": "markdown",
      "source": [
        "## [My Code] 정확도 계산"
      ],
      "metadata": {
        "id": "HYiCfsLSAU4x"
      }
    },
    {
      "cell_type": "code",
      "source": [
        "# [MY CODE] 정확도 계산 함수\n",
        "def accuracy(model, dataloader):\n",
        "    correct = 0\n",
        "    total = 0\n",
        "    model.eval()  # 모델을 평가 모드로 설정\n",
        "    with torch.no_grad():  # 그래디언트 계산 비활성화\n",
        "        for data in dataloader:\n",
        "            inputs, labels = data\n",
        "            inputs, labels = inputs.to('cuda'), labels.to('cuda')\n",
        "            outputs = model(inputs)\n",
        "            preds = torch.argmax(outputs, dim=1)  # 가장 확률이 높은 클래스를 예측\n",
        "            correct += (preds == labels).sum().item()\n",
        "            total += labels.size(0)\n",
        "    return correct / total\n",
        "\n",
        "# [MY CODE] Train/Test 정확도 측정\n",
        "train_acc = accuracy(model, trainloader)\n",
        "test_acc = accuracy(model, testloader)\n",
        "\n",
        "print(f\"Train Accuracy: {train_acc:.4f}\")\n",
        "print(f\"Test Accuracy: {test_acc:.4f}\")"
      ],
      "metadata": {
        "colab": {
          "base_uri": "https://localhost:8080/"
        },
        "id": "MvbroFfSB1-U",
        "outputId": "d48e09aa-44af-4430-dbb8-ff21c037c01e"
      },
      "execution_count": 44,
      "outputs": [
        {
          "output_type": "stream",
          "name": "stdout",
          "text": [
            "Train Accuracy: 0.0756\n",
            "Test Accuracy: 0.0756\n"
          ]
        }
      ]
    },
    {
      "cell_type": "code",
      "source": [
        "n_epochs = 100\n",
        "train_accs, test_accs = [], []  # 정확도 리스트\n",
        "\n",
        "for epoch in range(n_epochs):\n",
        "    model.train()  # 모델을 학습 모드로 설정\n",
        "    total_loss = 0.0\n",
        "\n",
        "    for data in trainloader:\n",
        "        model.zero_grad() # 기존 기울기를 초기화 ->이거 있어야지 정확한gradient 학습\n",
        "        inputs, labels = data\n",
        "        inputs, labels = inputs.to('cuda'), labels.to('cuda')\n",
        "\n",
        "        outputs = model(inputs)  # 모델 예측값\n",
        "        loss = criterion(outputs, labels)  # 손실 함수\n",
        "\n",
        "        loss.backward()\n",
        "        optimizer.step()\n",
        "\n",
        "        total_loss += loss.item()\n",
        "\n",
        "    # 정확도 계산 (Epoch 끝난 후)\n",
        "    train_acc = accuracy(model, trainloader)  # Train 정확도\n",
        "    test_acc = accuracy(model, testloader)    # Test 정확도\n",
        "    train_accs.append(train_acc)  # Train 정확도 기록\n",
        "    test_accs.append(test_acc)    # Test 정확도 기록\n",
        "\n",
        "    print(f\"Epoch {epoch+1:3d}/{n_epochs} | Loss: {total_loss:.4f} | Train Acc: {train_acc:.4f} | Test Acc: {test_acc:.4f}\")\n"
      ],
      "metadata": {
        "colab": {
          "base_uri": "https://localhost:8080/"
        },
        "id": "TryX1hewvNiB",
        "outputId": "c5ec6e89-5023-4676-a444-2d88165f7af0"
      },
      "execution_count": 46,
      "outputs": [
        {
          "output_type": "stream",
          "name": "stdout",
          "text": [
            "Epoch   1/100 | Loss: 361.1340 | Train Acc: 0.1157 | Test Acc: 0.1157\n",
            "Epoch   2/100 | Loss: 359.3306 | Train Acc: 0.2270 | Test Acc: 0.2270\n",
            "Epoch   3/100 | Loss: 357.5157 | Train Acc: 0.3825 | Test Acc: 0.3825\n",
            "Epoch   4/100 | Loss: 355.6626 | Train Acc: 0.4986 | Test Acc: 0.4986\n",
            "Epoch   5/100 | Loss: 353.7457 | Train Acc: 0.5718 | Test Acc: 0.5718\n",
            "Epoch   6/100 | Loss: 351.7368 | Train Acc: 0.6119 | Test Acc: 0.6119\n",
            "Epoch   7/100 | Loss: 349.6090 | Train Acc: 0.6348 | Test Acc: 0.6348\n",
            "Epoch   8/100 | Loss: 347.3329 | Train Acc: 0.6508 | Test Acc: 0.6508\n",
            "Epoch   9/100 | Loss: 344.8786 | Train Acc: 0.6595 | Test Acc: 0.6595\n",
            "Epoch  10/100 | Loss: 342.2159 | Train Acc: 0.6672 | Test Acc: 0.6672\n",
            "Epoch  11/100 | Loss: 339.3123 | Train Acc: 0.6763 | Test Acc: 0.6763\n",
            "Epoch  12/100 | Loss: 336.1346 | Train Acc: 0.6811 | Test Acc: 0.6811\n",
            "Epoch  13/100 | Loss: 332.6476 | Train Acc: 0.6873 | Test Acc: 0.6873\n",
            "Epoch  14/100 | Loss: 328.8153 | Train Acc: 0.6927 | Test Acc: 0.6927\n",
            "Epoch  15/100 | Loss: 324.5990 | Train Acc: 0.6999 | Test Acc: 0.6999\n",
            "Epoch  16/100 | Loss: 319.9595 | Train Acc: 0.7066 | Test Acc: 0.7066\n",
            "Epoch  17/100 | Loss: 314.8588 | Train Acc: 0.7140 | Test Acc: 0.7140\n",
            "Epoch  18/100 | Loss: 309.2624 | Train Acc: 0.7208 | Test Acc: 0.7208\n",
            "Epoch  19/100 | Loss: 303.1397 | Train Acc: 0.7275 | Test Acc: 0.7275\n",
            "Epoch  20/100 | Loss: 296.4705 | Train Acc: 0.7332 | Test Acc: 0.7332\n",
            "Epoch  21/100 | Loss: 289.2480 | Train Acc: 0.7399 | Test Acc: 0.7399\n",
            "Epoch  22/100 | Loss: 281.4818 | Train Acc: 0.7444 | Test Acc: 0.7444\n",
            "Epoch  23/100 | Loss: 273.2038 | Train Acc: 0.7488 | Test Acc: 0.7488\n",
            "Epoch  24/100 | Loss: 264.4687 | Train Acc: 0.7530 | Test Acc: 0.7530\n",
            "Epoch  25/100 | Loss: 255.3536 | Train Acc: 0.7569 | Test Acc: 0.7569\n",
            "Epoch  26/100 | Loss: 245.9586 | Train Acc: 0.7627 | Test Acc: 0.7627\n",
            "Epoch  27/100 | Loss: 236.4018 | Train Acc: 0.7681 | Test Acc: 0.7681\n",
            "Epoch  28/100 | Loss: 226.8095 | Train Acc: 0.7740 | Test Acc: 0.7740\n",
            "Epoch  29/100 | Loss: 217.3085 | Train Acc: 0.7792 | Test Acc: 0.7792\n",
            "Epoch  30/100 | Loss: 208.0194 | Train Acc: 0.7832 | Test Acc: 0.7832\n",
            "Epoch  31/100 | Loss: 199.0441 | Train Acc: 0.7880 | Test Acc: 0.7880\n",
            "Epoch  32/100 | Loss: 190.4632 | Train Acc: 0.7939 | Test Acc: 0.7939\n",
            "Epoch  33/100 | Loss: 182.3334 | Train Acc: 0.7989 | Test Acc: 0.7989\n",
            "Epoch  34/100 | Loss: 174.6872 | Train Acc: 0.8011 | Test Acc: 0.8011\n",
            "Epoch  35/100 | Loss: 167.5373 | Train Acc: 0.8049 | Test Acc: 0.8049\n",
            "Epoch  36/100 | Loss: 160.8795 | Train Acc: 0.8079 | Test Acc: 0.8079\n",
            "Epoch  37/100 | Loss: 154.6985 | Train Acc: 0.8122 | Test Acc: 0.8122\n",
            "Epoch  38/100 | Loss: 148.9711 | Train Acc: 0.8159 | Test Acc: 0.8159\n",
            "Epoch  39/100 | Loss: 143.6699 | Train Acc: 0.8185 | Test Acc: 0.8185\n",
            "Epoch  40/100 | Loss: 138.7643 | Train Acc: 0.8214 | Test Acc: 0.8214\n",
            "Epoch  41/100 | Loss: 134.2233 | Train Acc: 0.8234 | Test Acc: 0.8234\n",
            "Epoch  42/100 | Loss: 130.0169 | Train Acc: 0.8257 | Test Acc: 0.8257\n",
            "Epoch  43/100 | Loss: 126.1160 | Train Acc: 0.8284 | Test Acc: 0.8284\n",
            "Epoch  44/100 | Loss: 122.4937 | Train Acc: 0.8307 | Test Acc: 0.8307\n",
            "Epoch  45/100 | Loss: 119.1257 | Train Acc: 0.8330 | Test Acc: 0.8330\n",
            "Epoch  46/100 | Loss: 115.9890 | Train Acc: 0.8355 | Test Acc: 0.8355\n",
            "Epoch  47/100 | Loss: 113.0630 | Train Acc: 0.8377 | Test Acc: 0.8377\n",
            "Epoch  48/100 | Loss: 110.3293 | Train Acc: 0.8409 | Test Acc: 0.8409\n",
            "Epoch  49/100 | Loss: 107.7709 | Train Acc: 0.8421 | Test Acc: 0.8421\n",
            "Epoch  50/100 | Loss: 105.3724 | Train Acc: 0.8450 | Test Acc: 0.8450\n",
            "Epoch  51/100 | Loss: 103.1200 | Train Acc: 0.8470 | Test Acc: 0.8470\n",
            "Epoch  52/100 | Loss: 101.0011 | Train Acc: 0.8488 | Test Acc: 0.8488\n",
            "Epoch  53/100 | Loss: 99.0046 | Train Acc: 0.8501 | Test Acc: 0.8501\n",
            "Epoch  54/100 | Loss: 97.1206 | Train Acc: 0.8521 | Test Acc: 0.8521\n",
            "Epoch  55/100 | Loss: 95.3400 | Train Acc: 0.8543 | Test Acc: 0.8543\n",
            "Epoch  56/100 | Loss: 93.6547 | Train Acc: 0.8562 | Test Acc: 0.8562\n",
            "Epoch  57/100 | Loss: 92.0572 | Train Acc: 0.8577 | Test Acc: 0.8577\n",
            "Epoch  58/100 | Loss: 90.5408 | Train Acc: 0.8600 | Test Acc: 0.8600\n",
            "Epoch  59/100 | Loss: 89.0993 | Train Acc: 0.8612 | Test Acc: 0.8612\n",
            "Epoch  60/100 | Loss: 87.7274 | Train Acc: 0.8623 | Test Acc: 0.8623\n",
            "Epoch  61/100 | Loss: 86.4200 | Train Acc: 0.8640 | Test Acc: 0.8640\n",
            "Epoch  62/100 | Loss: 85.1724 | Train Acc: 0.8650 | Test Acc: 0.8650\n",
            "Epoch  63/100 | Loss: 83.9806 | Train Acc: 0.8661 | Test Acc: 0.8661\n",
            "Epoch  64/100 | Loss: 82.8409 | Train Acc: 0.8670 | Test Acc: 0.8670\n",
            "Epoch  65/100 | Loss: 81.7496 | Train Acc: 0.8682 | Test Acc: 0.8682\n",
            "Epoch  66/100 | Loss: 80.7037 | Train Acc: 0.8696 | Test Acc: 0.8696\n",
            "Epoch  67/100 | Loss: 79.7002 | Train Acc: 0.8710 | Test Acc: 0.8710\n",
            "Epoch  68/100 | Loss: 78.7367 | Train Acc: 0.8722 | Test Acc: 0.8722\n",
            "Epoch  69/100 | Loss: 77.8106 | Train Acc: 0.8729 | Test Acc: 0.8729\n",
            "Epoch  70/100 | Loss: 76.9197 | Train Acc: 0.8732 | Test Acc: 0.8732\n",
            "Epoch  71/100 | Loss: 76.0620 | Train Acc: 0.8746 | Test Acc: 0.8746\n",
            "Epoch  72/100 | Loss: 75.2358 | Train Acc: 0.8757 | Test Acc: 0.8757\n",
            "Epoch  73/100 | Loss: 74.4391 | Train Acc: 0.8765 | Test Acc: 0.8765\n",
            "Epoch  74/100 | Loss: 73.6703 | Train Acc: 0.8776 | Test Acc: 0.8776\n",
            "Epoch  75/100 | Loss: 72.9278 | Train Acc: 0.8781 | Test Acc: 0.8781\n",
            "Epoch  76/100 | Loss: 72.2105 | Train Acc: 0.8790 | Test Acc: 0.8790\n",
            "Epoch  77/100 | Loss: 71.5169 | Train Acc: 0.8799 | Test Acc: 0.8799\n",
            "Epoch  78/100 | Loss: 70.8459 | Train Acc: 0.8808 | Test Acc: 0.8808\n",
            "Epoch  79/100 | Loss: 70.1963 | Train Acc: 0.8818 | Test Acc: 0.8818\n",
            "Epoch  80/100 | Loss: 69.5671 | Train Acc: 0.8828 | Test Acc: 0.8828\n",
            "Epoch  81/100 | Loss: 68.9573 | Train Acc: 0.8835 | Test Acc: 0.8835\n",
            "Epoch  82/100 | Loss: 68.3660 | Train Acc: 0.8841 | Test Acc: 0.8841\n",
            "Epoch  83/100 | Loss: 67.7922 | Train Acc: 0.8846 | Test Acc: 0.8846\n",
            "Epoch  84/100 | Loss: 67.2353 | Train Acc: 0.8848 | Test Acc: 0.8848\n",
            "Epoch  85/100 | Loss: 66.6943 | Train Acc: 0.8855 | Test Acc: 0.8855\n",
            "Epoch  86/100 | Loss: 66.1688 | Train Acc: 0.8860 | Test Acc: 0.8860\n",
            "Epoch  87/100 | Loss: 65.6579 | Train Acc: 0.8865 | Test Acc: 0.8865\n",
            "Epoch  88/100 | Loss: 65.1611 | Train Acc: 0.8870 | Test Acc: 0.8870\n",
            "Epoch  89/100 | Loss: 64.6778 | Train Acc: 0.8875 | Test Acc: 0.8875\n",
            "Epoch  90/100 | Loss: 64.2075 | Train Acc: 0.8879 | Test Acc: 0.8879\n",
            "Epoch  91/100 | Loss: 63.7494 | Train Acc: 0.8885 | Test Acc: 0.8885\n",
            "Epoch  92/100 | Loss: 63.3033 | Train Acc: 0.8889 | Test Acc: 0.8889\n",
            "Epoch  93/100 | Loss: 62.8686 | Train Acc: 0.8893 | Test Acc: 0.8893\n",
            "Epoch  94/100 | Loss: 62.4448 | Train Acc: 0.8900 | Test Acc: 0.8900\n",
            "Epoch  95/100 | Loss: 62.0315 | Train Acc: 0.8903 | Test Acc: 0.8903\n",
            "Epoch  96/100 | Loss: 61.6282 | Train Acc: 0.8908 | Test Acc: 0.8908\n",
            "Epoch  97/100 | Loss: 61.2348 | Train Acc: 0.8915 | Test Acc: 0.8915\n",
            "Epoch  98/100 | Loss: 60.8506 | Train Acc: 0.8918 | Test Acc: 0.8918\n",
            "Epoch  99/100 | Loss: 60.4755 | Train Acc: 0.8924 | Test Acc: 0.8924\n",
            "Epoch 100/100 | Loss: 60.1090 | Train Acc: 0.8926 | Test Acc: 0.8926\n"
          ]
        }
      ]
    },
    {
      "cell_type": "markdown",
      "source": [
        "## [Log] Epoch 별 출력\n",
        "Epoch, Loss, Train Acc, Test Acc\n",
        "-> 각각 결과 출력 후 이후 Train acc와 test acc 결과로 plotting 할 것임."
      ],
      "metadata": {
        "id": "gO5IlPZ6FiBz"
      }
    },
    {
      "cell_type": "markdown",
      "source": [
        "출력 결과를 보면 잘 수렴하는 것을 볼 수 있습니다.\n",
        "이전 구현과 다른 점은 다음 두 가지입니다.\n",
        "- `for data in trainloader`를 통해 batch들을 iterate하면서 model을 학습합니다.\n",
        "- `inputs, labels = inputs.to('cuda'), labels.to('cuda')`를 통해 model의 입력으로 들어가는 tensor들을 GPU로 보냅니다.\n",
        "\n",
        "마지막으로 첫 번째 data에 대한 예측 결과를 살펴봅시다."
      ],
      "metadata": {
        "id": "YRDcptrqniX7"
      }
    },
    {
      "cell_type": "markdown",
      "source": [
        "## [FEEDBACK] Loss 줄이는 법\n",
        "Loss 가 얼만큼 줄어들 수 있는 건가요? 어떤식으로 처리해야할지 모르겠습니다."
      ],
      "metadata": {
        "id": "QzJtyFtxF7W1"
      }
    },
    {
      "cell_type": "code",
      "source": [
        "idx = 0\n",
        "\n",
        "x = trainset[idx][0][None]  # (1, 1, 28, 28)\n",
        "x = x.to('cuda')\n",
        "\n",
        "print(model(x))\n",
        "print(trainset[idx][1])"
      ],
      "metadata": {
        "id": "Zct0ssSKwjt1",
        "colab": {
          "base_uri": "https://localhost:8080/"
        },
        "outputId": "a62177cd-c395-4765-8f7a-cb8d9e552db0"
      },
      "execution_count": 47,
      "outputs": [
        {
          "output_type": "stream",
          "name": "stdout",
          "text": [
            "tensor([[-0.1638, -3.6886, -0.5644,  2.0778, -1.5855, -0.0540, -5.0808,  7.8109,\n",
            "         -0.5492,  2.8787]], device='cuda:0', grad_fn=<AddmmBackward0>)\n",
            "7\n"
          ]
        }
      ]
    },
    {
      "cell_type": "markdown",
      "source": [
        "여기서 idx를 조정하여 다른 data에 대한 출력 결과도 볼 수 있습니다.\n",
        "예측 결과를 보시면 아직 성능이 그렇게 좋지 않은 것을 알 수 있습니다."
      ],
      "metadata": {
        "id": "qzgSOrMsoZ2z"
      }
    },
    {
      "cell_type": "markdown",
      "source": [
        "## [My Code] Plotting"
      ],
      "metadata": {
        "id": "9w6yTUU5FUDZ"
      }
    },
    {
      "cell_type": "code",
      "source": [
        "\n",
        "import matplotlib.pyplot as plt\n",
        "import numpy as np\n",
        "\n",
        "def plot_acc(train_accs, test_accs):\n",
        "    epochs = np.arange(len(train_accs))\n",
        "    plt.plot(epochs, train_accs, label='Train Accuracy')\n",
        "    plt.plot(epochs, test_accs, label='Test Accuracy')\n",
        "    plt.xlabel('Epochs')\n",
        "    plt.ylabel('Accuracy')\n",
        "    plt.legend()\n",
        "    plt.show()\n",
        "\n",
        "plot_acc(train_accs, test_accs)\n"
      ],
      "metadata": {
        "id": "d6M4SpWQoML9",
        "colab": {
          "base_uri": "https://localhost:8080/",
          "height": 449
        },
        "outputId": "000cc813-5093-49f8-9ee7-e5a20bb69438"
      },
      "execution_count": 48,
      "outputs": [
        {
          "output_type": "display_data",
          "data": {
            "text/plain": [
              "<Figure size 640x480 with 1 Axes>"
            ],
            "image/png": "[encoded data removed]"
          },
          "metadata": {}
        }
      ]
    },
    {
      "cell_type": "markdown",
      "source": [
        "## [Log] Epoch 에 따른 Train Accuracy 와 Test Accuracy 시각화\n"
      ],
      "metadata": {
        "id": "xPVBWtGvGN9v"
      }
    },
    {
      "cell_type": "markdown",
      "source": [
        "# [Feedback] Train Accuracy\n",
        "\n",
        "Train Accuracy 선 (파란선) 이 안보이는데 맞게 된건가요?"
      ],
      "metadata": {
        "id": "XxXTpRgyGeqU"
      }
    }
  ]
}